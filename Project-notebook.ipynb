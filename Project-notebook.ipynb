{
 "cells": [
  {
   "cell_type": "markdown",
   "metadata": {
    "application/vnd.databricks.v1+cell": {
     "cellMetadata": {},
     "inputWidgets": {},
     "nuid": "9bc7af6c-1f41-46e8-bf5c-4c33ab74913f",
     "showTitle": false,
     "tableResultSettingsMap": {},
     "title": ""
    }
   },
   "source": [
    "\n",
    "# Project - PID Streaming - Tomáš Mlynář - mlynatom@fel.cvut.cz\n",
    "---\n",
    "\n",
    "<div  style=\"text-align: center; line-height: 0; padding-top: 20px;\">\n",
    "  <img src=\"https://raw.githubusercontent.com/animrichter/BDT_2023/master/data/assets/streaming.png\" style=\"width: 1200\">\n",
    "</div>"
   ]
  },
  {
   "cell_type": "markdown",
   "metadata": {
    "application/vnd.databricks.v1+cell": {
     "cellMetadata": {},
     "inputWidgets": {},
     "nuid": "38ad7e02-829e-4177-a4de-bbd62ba348c7",
     "showTitle": false,
     "tableResultSettingsMap": {},
     "title": ""
    }
   },
   "source": [
    "**TODO**\n",
    "\n",
    "- klidně jen zkusit přes vánoce a po vánocích kdyžtak je konzultae (ale chatovací nástroje by to měly zvládnout)\n",
    "- na konec reportu uveďte zdroje - pro info kdo co používá (e.g. copilot, chatGPT+verze)\n",
    "- soft deadline 15. 1. (ideálně do téhle doby) -> po komunikaci s Filasem lze posunout\n",
    "- V průběhu den -> potřebuji buď jeden den, nebo to rozdělit po dnech a intervalech\n",
    "- NULL typ vozidel jsou vlaky!\n",
    "- začít s uzavřením streamu a pak batch (kvůli prohlédnutí dat)\n",
    "- později ideálně stream prostující celou pipeline"
   ]
  },
  {
   "cell_type": "markdown",
   "metadata": {
    "application/vnd.databricks.v1+cell": {
     "cellMetadata": {},
     "inputWidgets": {},
     "nuid": "bba7c8e8-74af-448a-b525-314e086ff2d3",
     "showTitle": false,
     "tableResultSettingsMap": {},
     "title": ""
    }
   },
   "source": [
    "## Zadání B\n",
    " Proveďte analýzu zpoždění různých typů dopravních prostředků (autobusy, tramvaje, metro, vlaky) v průběhu celého dne. Porovnejte průměrné zpoždění pro každý typ vozidla a zjistěte, jak se mění v 3 hod. časových intervalech. Výsledky zobrazte v grafu. Jako další krok identifikujte 3 místa s nejmenším průměrným zpožděním pro daný typ dopravního prostředku a vizualizujte je na mapě.\n",
    "Cíl: Odhalit vzorce v zpoždění různých typů dopravních prostředků a lokalizovat klíčová místa, kde k nim dochází.\n"
   ]
  },
  {
   "cell_type": "markdown",
   "metadata": {
    "application/vnd.databricks.v1+cell": {
     "cellMetadata": {},
     "inputWidgets": {},
     "nuid": "a45d12f2-e4b7-45cd-b20f-612847043954",
     "showTitle": false,
     "tableResultSettingsMap": {},
     "title": ""
    }
   },
   "source": [
    "%md\n",
    "## Data Fields\n",
    "\n",
    "### 1. `geometry.coordinates`\n",
    "- **Description**: Coordinates representing the location of the vehicle.\n",
    "\n",
    "### 2. `properties.trip.vehicle_type.description_en`\n",
    "- **Description**: Description of the vehicle type in English.\n",
    "  - **Note**: If empty, it represents a train.\n",
    "\n",
    "### 3. `properties.trip.agency_name.scheduled`\n",
    "- **Description**: Agency name that currently operates the trip\n",
    "\n",
    "### 4. `properties.trip.gtfs.trip_id`\n",
    "- **Description**: Identifier of the trip in the GTFS Static feed.\n",
    "\n",
    "### 5. `properties.trip.vehicle_registration_number`\n",
    "- **Description**: Four-digit identifier of the vehicle in the system.\n",
    "\n",
    "### 6. `properties.trip.gtfs.route_short_name`\n",
    "- **Description**: Identification of the line used for the public.\n",
    "\n",
    "### 7. `properties.last_position.delay.actual`\n",
    "- **Description**: Current delay, in seconds.\n",
    "\n",
    "### 8. `properties.last_position.origin_timestamp`\n",
    "- **Description**: Time at which the position was sent from the vehicle (UTC).\n",
    "\n",
    "### 9. `properties.last_position.shape_dist_traveled`\n",
    "- **Description**: Number of kilometers traveled on the route."
   ]
  },
  {
   "cell_type": "markdown",
   "metadata": {
    "application/vnd.databricks.v1+cell": {
     "cellMetadata": {},
     "inputWidgets": {},
     "nuid": "26d32fbd-938d-4565-ab76-233ad46102da",
     "showTitle": false,
     "tableResultSettingsMap": {},
     "title": ""
    }
   },
   "source": [
    "## Kafka Connection settings"
   ]
  },
  {
   "cell_type": "code",
   "execution_count": 0,
   "metadata": {
    "application/vnd.databricks.v1+cell": {
     "cellMetadata": {
      "byteLimit": 2048000,
      "rowLimit": 10000
     },
     "inputWidgets": {},
     "nuid": "09958bb9-dc79-4bad-bcc0-d15d5733d270",
     "showTitle": false,
     "tableResultSettingsMap": {},
     "title": ""
    }
   },
   "outputs": [],
   "source": [
    "KAFKA_CLUSTER = \"b-3-public.felkafkamsk.56s6v1.c2.kafka.eu-central-1.amazonaws.com:9196,b-2-public.felkafkamsk.56s6v1.c2.kafka.eu-central-1.amazonaws.com:9196,b-1-public.felkafkamsk.56s6v1.c2.kafka.eu-central-1.amazonaws.com:9196\"\n",
    "\n",
    "TOPIC = \"fel-pid-topic\"\n",
    "\n",
    "#data schema for parsing raw data\n",
    "SCHEMA = 'array<struct<geometry: struct<coordinates: array<double>, type: string>, properties: struct<last_position: struct<bearing: int, delay: struct<actual: int, last_stop_arrival: int, last_stop_departure: int>, is_canceled: string, last_stop: struct<arrival_time: string, departure_time: string, id: string, sequence: int>, next_stop: struct<arrival_time: string, departure_time: string, id: string, sequence: int>, origin_timestamp: string, shape_dist_traveled: string, speed: string, state_position: string, tracking: boolean>, trip: struct<agency_name: struct<real: string, scheduled: string>, cis: struct<line_id: string, trip_number: string>, gtfs: struct<route_id: string, route_short_name: string, route_type: int, trip_headsign: string, trip_id: string, trip_short_name: string>, origin_route_name: string, sequence_id: int, start_timestamp: string, vehicle_registration_number: string, vehicle_type: struct<description_cs: string, description_en: string, id: int>, wheelchair_accessible: boolean, air_conditioned: boolean, usb_chargers: boolean>>, type: string>>'"
   ]
  },
  {
   "cell_type": "markdown",
   "metadata": {
    "application/vnd.databricks.v1+cell": {
     "cellMetadata": {},
     "inputWidgets": {},
     "nuid": "f7aff15d-d6a6-40c8-b887-025e6f830c84",
     "showTitle": false,
     "tableResultSettingsMap": {},
     "title": ""
    }
   },
   "source": [
    "## Stream -> Batch processing"
   ]
  },
  {
   "cell_type": "markdown",
   "metadata": {
    "application/vnd.databricks.v1+cell": {
     "cellMetadata": {},
     "inputWidgets": {},
     "nuid": "8f9c73e6-eda5-4597-b83d-1f5015143b4b",
     "showTitle": false,
     "tableResultSettingsMap": {},
     "title": ""
    }
   },
   "source": [
    "### Kafka Connection"
   ]
  },
  {
   "cell_type": "code",
   "execution_count": 0,
   "metadata": {
    "application/vnd.databricks.v1+cell": {
     "cellMetadata": {
      "byteLimit": 2048000,
      "rowLimit": 10000
     },
     "inputWidgets": {},
     "nuid": "62c3eafb-d4dc-475b-bb41-78e98c6a78f1",
     "showTitle": false,
     "tableResultSettingsMap": {},
     "title": ""
    }
   },
   "outputs": [],
   "source": [
    "#read data as a batch from kafka\n",
    "raw = (\n",
    "    spark\n",
    "        .read #only change\n",
    "        .format('kafka')\n",
    "        .option('kafka.bootstrap.servers', KAFKA_CLUSTER)\n",
    "        .option('subscribe', TOPIC)\n",
    "        .option('startingOffsets', \"earliest\") #starting offset - the kafka is set to save everything\n",
    "        .option('kafka.sasl.mechanism', 'SCRAM-SHA-512')\n",
    "        .option('kafka.security.protocol', 'SASL_SSL')\n",
    "        .option('kafka.sasl.jaas.config', 'kafkashaded.org.apache.kafka.common.security.scram.ScramLoginModule required username=\"FELPIDUSER\" password=\"dzs3c1vldy6np5\";')\n",
    "        .load()\n",
    ")\n",
    "\n",
    "checkpoint = '/mnt/pid/checkpoint_file_batch.txt'\n",
    "\n",
    "#different write\n",
    "(raw.write\n",
    "   .format(\"delta\")\n",
    "   .option(\"checkpointLocation\", checkpoint)\n",
    "   .mode(\"overwrite\")\n",
    "   .saveAsTable(\"fel_pid_topic_data_batch\")\n",
    ")"
   ]
  },
  {
   "cell_type": "code",
   "execution_count": 0,
   "metadata": {
    "application/vnd.databricks.v1+cell": {
     "cellMetadata": {
      "byteLimit": 2048000,
      "implicitDf": true,
      "rowLimit": 10000
     },
     "inputWidgets": {},
     "nuid": "be612c70-1fd5-42f7-8ec7-69062b994ee9",
     "showTitle": false,
     "tableResultSettingsMap": {},
     "title": ""
    }
   },
   "outputs": [],
   "source": [
    "%sql\n",
    "--view the data we got\n",
    "select string(value), * from fel_pid_topic_data_batch order by `timestamp` desc"
   ]
  },
  {
   "cell_type": "markdown",
   "metadata": {
    "application/vnd.databricks.v1+cell": {
     "cellMetadata": {},
     "inputWidgets": {},
     "nuid": "f9a832c7-d227-4870-8e64-dab2aeba44bc",
     "showTitle": false,
     "tableResultSettingsMap": {},
     "title": ""
    }
   },
   "source": [
    "### Create Bronze Table"
   ]
  },
  {
   "cell_type": "code",
   "execution_count": 0,
   "metadata": {
    "application/vnd.databricks.v1+cell": {
     "cellMetadata": {
      "byteLimit": 2048000,
      "rowLimit": 10000
     },
     "inputWidgets": {},
     "nuid": "407f9ad5-2e85-4255-8245-237ea71641e7",
     "showTitle": false,
     "tableResultSettingsMap": {},
     "title": ""
    }
   },
   "outputs": [],
   "source": [
    "%python\n",
    "from pyspark.sql.functions import from_json, col\n",
    "\n",
    "## load data as dataframe\n",
    "pid_data_df = spark.table(\"fel_pid_topic_data_batch\")\n",
    "\n",
    "## retype value column to string\n",
    "pid_data_df = pid_data_df.withColumn(\"value\", pid_data_df[\"value\"].cast(\"string\"))\n",
    "\n",
    "## unwrap the data in value column (list of dictionaries) and have them on separate rows\n",
    "pid_data_df = pid_data_df.withColumn(\"value\", from_json(col(\"value\"), SCHEMA))\n",
    "pid_data_df = pid_data_df.selectExpr(\"explode(value) as value\", \"timestamp\")\n",
    "\n",
    "## now extract value into 3 columns - geometry, properties, type\n",
    "pid_data_df = pid_data_df.withColumn(\"geometry\", pid_data_df[\"value.geometry\"])\n",
    "pid_data_df = pid_data_df.withColumn(\"properties\", pid_data_df[\"value.properties\"])\n",
    "pid_data_df = pid_data_df.withColumn(\"type\", pid_data_df[\"value.type\"])\n",
    "\n",
    "## drop value column\n",
    "pid_data_df = pid_data_df.drop(\"value\")\n",
    "\n",
    "#order to better see result\n",
    "pid_data_df = pid_data_df.orderBy(\"timestamp\")\n",
    "\n",
    "#display the result -> only now something is computed\n",
    "pid_data_df.display()\n",
    "\n",
    "#save the bronze table\n",
    "pid_data_df.write.format(\"delta\").mode(\"overwrite\").saveAsTable(\"fel_pid_topic_data_bronze\")"
   ]
  },
  {
   "cell_type": "markdown",
   "metadata": {
    "application/vnd.databricks.v1+cell": {
     "cellMetadata": {},
     "inputWidgets": {},
     "nuid": "ba8c1dca-f5d0-4b1c-a268-161aea4db201",
     "showTitle": false,
     "tableResultSettingsMap": {},
     "title": ""
    }
   },
   "source": [
    "### Create Silver Table\n",
    "\n",
    "Table with flat structure"
   ]
  },
  {
   "cell_type": "code",
   "execution_count": 0,
   "metadata": {
    "application/vnd.databricks.v1+cell": {
     "cellMetadata": {
      "byteLimit": 2048000,
      "rowLimit": 10000
     },
     "inputWidgets": {},
     "nuid": "1e4dd463-9a99-48ba-a4da-11c1b2b921e3",
     "showTitle": false,
     "tableResultSettingsMap": {},
     "title": ""
    }
   },
   "outputs": [],
   "source": [
    "## load bronze table\n",
    "bronze_table = spark.table(\"fel_pid_topic_data_bronze\")\n",
    "bronze_table.display()"
   ]
  },
  {
   "cell_type": "code",
   "execution_count": 0,
   "metadata": {
    "application/vnd.databricks.v1+cell": {
     "cellMetadata": {
      "byteLimit": 2048000,
      "rowLimit": 10000
     },
     "inputWidgets": {},
     "nuid": "ba5f56cb-e8aa-4bfe-b0bb-5704785086e0",
     "showTitle": false,
     "tableResultSettingsMap": {},
     "title": ""
    }
   },
   "outputs": [],
   "source": [
    "from pyspark.sql.functions import when, col, lit\n",
    "\n",
    "silver_table = (bronze_table\n",
    "                .withColumn(\"latitude\", col(\"geometry.coordinates\")[1])\n",
    "                .withColumn(\"longitude\", col(\"geometry.coordinates\")[0])\n",
    "                .withColumn(\"vehicle_type\", when(col(\"properties.trip.vehicle_type.description_en\").isNotNull(), col(\"properties.trip.vehicle_type.description_en\")).otherwise(lit(\"train\")))\n",
    "                .withColumn(\"trip_id\", col(\"properties.trip.gtfs.trip_id\"))\n",
    "                .withColumn(\"line_name\", col(\"properties.trip.gtfs.route_short_name\"))\n",
    "                .withColumn(\"timestamp\", col(\"properties.last_position.origin_timestamp\").cast(\"timestamp\"))\n",
    "                .withColumn(\"current_delay\", col(\"properties.last_position.delay.actual\"))\n",
    "                )\n",
    "\n",
    "#drop geometry and properties\n",
    "silver_table = silver_table.drop(\"geometry\", \"properties\")\n",
    "\n",
    "silver_table.display()\n",
    "\n",
    "#save the silver table\n",
    "silver_table.write.format(\"delta\").mode(\"overwrite\").saveAsTable(\"fel_pid_topic_data_silver\")"
   ]
  },
  {
   "cell_type": "markdown",
   "metadata": {
    "application/vnd.databricks.v1+cell": {
     "cellMetadata": {},
     "inputWidgets": {},
     "nuid": "3374a693-a320-4df0-9bfe-c8d836b4e492",
     "showTitle": false,
     "tableResultSettingsMap": {},
     "title": ""
    }
   },
   "source": [
    "### Gold Tables"
   ]
  },
  {
   "cell_type": "markdown",
   "metadata": {
    "application/vnd.databricks.v1+cell": {
     "cellMetadata": {},
     "inputWidgets": {},
     "nuid": "2990018f-878e-41e1-a545-693c200aa62c",
     "showTitle": false,
     "tableResultSettingsMap": {},
     "title": ""
    }
   },
   "source": [
    "#### Delays for each vehichle type - during a day\n",
    "\n",
    "**Proveďte analýzu zpoždění různých typů dopravních prostředků (autobusy, tramvaje, metro, vlaky) v průběhu celého dne. Porovnejte průměrné zpoždění pro každý typ vozidla** a zjistěte, jak se mění v 3 hod. časových intervalech. Výsledky zobrazte v grafu."
   ]
  },
  {
   "cell_type": "code",
   "execution_count": 0,
   "metadata": {
    "application/vnd.databricks.v1+cell": {
     "cellMetadata": {
      "byteLimit": 2048000,
      "rowLimit": 10000
     },
     "inputWidgets": {},
     "nuid": "a81add41-38e1-492f-867e-17a4c44bbd8e",
     "showTitle": false,
     "tableResultSettingsMap": {},
     "title": ""
    }
   },
   "outputs": [],
   "source": [
    "gold_table = spark.table(\"fel_pid_topic_data_silver\")\n",
    "\n",
    "## add new column denoting day of the trip\n",
    "gold_table = gold_table.withColumn(\"day\", col(\"timestamp\").cast(\"date\"))\n",
    "gold_table.display()"
   ]
  },
  {
   "cell_type": "code",
   "execution_count": 0,
   "metadata": {
    "application/vnd.databricks.v1+cell": {
     "cellMetadata": {
      "byteLimit": 2048000,
      "rowLimit": 10000
     },
     "inputWidgets": {},
     "nuid": "90b09174-01aa-4fda-96d2-62005a616906",
     "showTitle": false,
     "tableResultSettingsMap": {},
     "title": ""
    }
   },
   "outputs": [],
   "source": [
    "from pyspark.sql.functions import avg\n",
    "\n",
    "#there are in each day more rows for each trip_id -> average current delay for each trip_id during a day - this way I get the average delay for each trip\n",
    "avg_gold_table = gold_table.groupBy(\"day\", \"trip_id\", \"vehicle_type\").agg(avg(\"current_delay\").alias(\"avg_delay\")).orderBy(\"day\", \"trip_id\")\n",
    "avg_gold_table.display()"
   ]
  },
  {
   "cell_type": "code",
   "execution_count": 0,
   "metadata": {
    "application/vnd.databricks.v1+cell": {
     "cellMetadata": {
      "byteLimit": 2048000,
      "rowLimit": 10000
     },
     "inputWidgets": {},
     "nuid": "9a5f9fd0-fa41-4ab0-b069-99b63a290a82",
     "showTitle": false,
     "tableResultSettingsMap": {},
     "title": ""
    }
   },
   "outputs": [
    {
     "output_type": "display_data",
     "data": {
      "text/plain": [
       "Databricks visualization. Run in Databricks to view."
      ]
     },
     "metadata": {
      "application/vnd.databricks.v1.subcommand+json": {
       "baseErrorDetails": null,
       "bindings": {},
       "collapsed": false,
       "command": "%python\n__backend_agg_display_orig = display\n__backend_agg_dfs = []\ndef __backend_agg_display_new(df):\n    __backend_agg_df_modules = [\"pandas.core.frame\", \"databricks.koalas.frame\", \"pyspark.sql.dataframe\", \"pyspark.pandas.frame\", \"pyspark.sql.connect.dataframe\"]\n    if (type(df).__module__ in __backend_agg_df_modules and type(df).__name__ == 'DataFrame') or isinstance(df, list):\n        __backend_agg_dfs.append(df)\n\ndisplay = __backend_agg_display_new\n\ndef __backend_agg_user_code_fn():\n    import base64\n    exec(base64.standard_b64decode(\"I2F2ZXJhZ2UgZm9yIGVhY2ggdmVoaWNobGVfdHlwZSBpbiBhIGRheQphdmdfZ29sZF90YWJsZV9ieV92ZWhpY2xlID0gYXZnX2dvbGRfdGFibGUuZ3JvdXBCeSgiZGF5IiwgInZlaGljbGVfdHlwZSIpLmFnZyhhdmcoImF2Z19kZWxheSIpLmFsaWFzKCJhdmdfZGVsYXlfYnlfdmVoaWNsZSIpKS5vcmRlckJ5KCJkYXkiLCAidmVoaWNsZV90eXBlIikKYXZnX2dvbGRfdGFibGVfYnlfdmVoaWNsZS5kaXNwbGF5KCkKCiNwbG90IGEgYmFyIGNoYXJ0IG9mIHRoZSBhdmVyYWdlIGRlbGF5IGZvciBlYWNoIHZlaGljbGUgdHlwZSBpbiBhIGRheQoKCg==\").decode())\n\ntry:\n    # run user code\n    __backend_agg_user_code_fn()\n\n    #reset display function\n    display = __backend_agg_display_orig\n\n    if len(__backend_agg_dfs) > 0:\n        # create a temp view\n        if type(__backend_agg_dfs[0]).__module__ == \"databricks.koalas.frame\":\n            # koalas dataframe\n            __backend_agg_dfs[0].to_spark().createOrReplaceTempView(\"DatabricksView6ddca4f\")\n        elif type(__backend_agg_dfs[0]).__module__ == \"pandas.core.frame\" or isinstance(__backend_agg_dfs[0], list):\n            # pandas dataframe\n            spark.createDataFrame(__backend_agg_dfs[0]).createOrReplaceTempView(\"DatabricksView6ddca4f\")\n        else:\n            __backend_agg_dfs[0].createOrReplaceTempView(\"DatabricksView6ddca4f\")\n        #run backend agg\n        display(spark.sql(\"\"\"WITH q AS (select * from DatabricksView6ddca4f) SELECT `day`,`vehicle_type`,`avg_delay_by_vehicle` FROM q\"\"\"))\n    else:\n        displayHTML(\"dataframe no longer exists. If you're using dataframe.display(), use display(dataframe) instead.\")\n\n\nfinally:\n    spark.sql(\"drop view if exists DatabricksView6ddca4f\")\n    display = __backend_agg_display_orig\n    del __backend_agg_display_new\n    del __backend_agg_display_orig\n    del __backend_agg_dfs\n    del __backend_agg_user_code_fn\n\n",
       "commandTitle": "Visualization 1",
       "commandType": "auto",
       "commandVersion": 0,
       "commentThread": [],
       "commentsVisible": false,
       "contentSha256Hex": null,
       "customPlotOptions": {
        "redashChart": [
         {
          "key": "type",
          "value": "CHART"
         },
         {
          "key": "options",
          "value": {
           "alignYAxesAtZero": true,
           "coefficient": 1,
           "columnConfigurationMap": {
            "series": {
             "column": "vehicle_type",
             "id": "column_45b340b178"
            },
            "x": {
             "column": "day",
             "id": "column_45b340b177"
            },
            "y": [
             {
              "column": "avg_delay_by_vehicle",
              "id": "column_45b340b179"
             }
            ]
           },
           "dateTimeFormat": "DD/MM/YYYY HH:mm",
           "direction": {
            "type": "counterclockwise"
           },
           "error_y": {
            "type": "data",
            "visible": true
           },
           "globalSeriesType": "column",
           "isAggregationOn": false,
           "legend": {
            "traceorder": "normal"
           },
           "missingValuesAsZero": true,
           "numberFormat": "0,0.[00000]",
           "percentFormat": "0[.]00%",
           "series": {
            "error_y": {
             "type": "data",
             "visible": true
            },
            "stacking": null
           },
           "seriesOptions": {
            "avg_delay_by_vehicle": {
             "name": "avg_delay_by_vehicle",
             "type": "column",
             "yAxis": 0
            },
            "column_45b340b179": {
             "name": "avg_delay_by_vehicle",
             "type": "column",
             "yAxis": 0
            },
            "tram": {
             "color": "#FE6AC1"
            },
            "trolleybus": {
             "color": "#78FF00"
            }
           },
           "showDataLabels": false,
           "sizemode": "diameter",
           "sortX": true,
           "sortY": true,
           "swappedAxes": false,
           "textFormat": "",
           "useAggregationsUi": true,
           "valuesOptions": {},
           "version": 2,
           "xAxis": {
            "labels": {
             "enabled": true
            },
            "type": "-"
           },
           "yAxis": [
            {
             "type": "-"
            },
            {
             "opposite": true,
             "type": "-"
            }
           ]
          }
         }
        ]
       },
       "datasetPreviewNameToCmdIdMap": {},
       "diffDeletes": [],
       "diffInserts": [],
       "displayType": "redashChart",
       "error": null,
       "errorDetails": null,
       "errorSummary": null,
       "errorTraceType": null,
       "finishTime": 0,
       "globalVars": {},
       "guid": "",
       "height": "auto",
       "hideCommandCode": false,
       "hideCommandResult": false,
       "iPythonMetadata": null,
       "inputWidgets": {},
       "isLockedInExamMode": false,
       "latestUser": "a user",
       "latestUserId": null,
       "listResultMetadata": null,
       "metadata": {},
       "nuid": "a8de5b43-c18b-441a-a21a-2ffe50acf728",
       "origId": 0,
       "parentHierarchy": [],
       "pivotAggregation": null,
       "pivotColumns": null,
       "position": 9.990234375,
       "resultDbfsErrorMessage": null,
       "resultDbfsStatus": "INLINED_IN_TREE",
       "results": null,
       "showCommandTitle": false,
       "startTime": 0,
       "state": "input",
       "streamStates": {},
       "subcommandOptions": {
        "queryPlan": {
         "selects": [
          {
           "column": "day",
           "type": "column"
          },
          {
           "column": "vehicle_type",
           "type": "column"
          },
          {
           "column": "avg_delay_by_vehicle",
           "type": "column"
          }
         ]
        }
       },
       "submitTime": 0,
       "subtype": "tableResultSubCmd.visualization",
       "tableResultIndex": 0,
       "tableResultSettingsMap": {},
       "useConsistentColors": false,
       "version": "CommandV1",
       "width": "auto",
       "workflows": null,
       "xColumns": null,
       "yColumns": null
      }
     },
     "output_type": "display_data"
    }
   ],
   "source": [
    "#average for each vehichle_type in a day\n",
    "avg_gold_table_by_vehicle = avg_gold_table.groupBy(\"day\", \"vehicle_type\").agg(avg(\"avg_delay\").alias(\"avg_delay_by_vehicle\")).orderBy(\"day\", \"vehicle_type\")\n",
    "avg_gold_table_by_vehicle.display()\n",
    "\n"
   ]
  },
  {
   "cell_type": "code",
   "execution_count": 0,
   "metadata": {
    "application/vnd.databricks.v1+cell": {
     "cellMetadata": {
      "byteLimit": 2048000,
      "rowLimit": 10000
     },
     "inputWidgets": {},
     "nuid": "3ab50c20-fb00-4a9d-9a65-0edfa9e8f016",
     "showTitle": false,
     "tableResultSettingsMap": {},
     "title": ""
    }
   },
   "outputs": [
    {
     "output_type": "display_data",
     "data": {
      "text/plain": [
       "Databricks visualization. Run in Databricks to view."
      ]
     },
     "metadata": {
      "application/vnd.databricks.v1.subcommand+json": {
       "baseErrorDetails": null,
       "bindings": {},
       "collapsed": false,
       "command": "%python\n__backend_agg_display_orig = display\n__backend_agg_dfs = []\ndef __backend_agg_display_new(df):\n    __backend_agg_df_modules = [\"pandas.core.frame\", \"databricks.koalas.frame\", \"pyspark.sql.dataframe\", \"pyspark.pandas.frame\", \"pyspark.sql.connect.dataframe\"]\n    if (type(df).__module__ in __backend_agg_df_modules and type(df).__name__ == 'DataFrame') or isinstance(df, list):\n        __backend_agg_dfs.append(df)\n\ndisplay = __backend_agg_display_new\n\ndef __backend_agg_user_code_fn():\n    import base64\n    exec(base64.standard_b64decode(\"I2F2ZXJhZ2UgYWxzbyBvdmVyIHRoZSBkYXlzCmF2Z19nb2xkX3RhYmxlX2J5X2FsbF9kYXlzPSBhdmdfZ29sZF90YWJsZS5ncm91cEJ5KCJ2ZWhpY2xlX3R5cGUiKS5hZ2coYXZnKCJhdmdfZGVsYXkiKS5hbGlhcygiYXZnX2RlbGF5X2J5X3ZlaGljbGUiKSkub3JkZXJCeSgidmVoaWNsZV90eXBlIikKYXZnX2dvbGRfdGFibGVfYnlfYWxsX2RheXMuZGlzcGxheSgp\").decode())\n\ntry:\n    # run user code\n    __backend_agg_user_code_fn()\n\n    #reset display function\n    display = __backend_agg_display_orig\n\n    if len(__backend_agg_dfs) > 0:\n        # create a temp view\n        if type(__backend_agg_dfs[0]).__module__ == \"databricks.koalas.frame\":\n            # koalas dataframe\n            __backend_agg_dfs[0].to_spark().createOrReplaceTempView(\"DatabricksView2b32e39\")\n        elif type(__backend_agg_dfs[0]).__module__ == \"pandas.core.frame\" or isinstance(__backend_agg_dfs[0], list):\n            # pandas dataframe\n            spark.createDataFrame(__backend_agg_dfs[0]).createOrReplaceTempView(\"DatabricksView2b32e39\")\n        else:\n            __backend_agg_dfs[0].createOrReplaceTempView(\"DatabricksView2b32e39\")\n        #run backend agg\n        display(spark.sql(\"\"\"WITH q AS (select * from DatabricksView2b32e39) SELECT `vehicle_type`,`avg_delay_by_vehicle`,`vehicle_type` FROM q\"\"\"))\n    else:\n        displayHTML(\"dataframe no longer exists. If you're using dataframe.display(), use display(dataframe) instead.\")\n\n\nfinally:\n    spark.sql(\"drop view if exists DatabricksView2b32e39\")\n    display = __backend_agg_display_orig\n    del __backend_agg_display_new\n    del __backend_agg_display_orig\n    del __backend_agg_dfs\n    del __backend_agg_user_code_fn\n\n",
       "commandTitle": "Visualization 1",
       "commandType": "auto",
       "commandVersion": 0,
       "commentThread": [],
       "commentsVisible": false,
       "contentSha256Hex": null,
       "customPlotOptions": {
        "redashChart": [
         {
          "key": "type",
          "value": "CHART"
         },
         {
          "key": "options",
          "value": {
           "alignYAxesAtZero": true,
           "coefficient": 1,
           "columnConfigurationMap": {
            "series": {
             "column": "vehicle_type",
             "id": "column_45b340b185"
            },
            "x": {
             "column": "vehicle_type",
             "id": "column_45b340b181"
            },
            "y": [
             {
              "column": "avg_delay_by_vehicle",
              "id": "column_45b340b182"
             }
            ]
           },
           "dateTimeFormat": "DD/MM/YYYY HH:mm",
           "direction": {
            "type": "counterclockwise"
           },
           "error_y": {
            "type": "data",
            "visible": true
           },
           "globalSeriesType": "column",
           "isAggregationOn": false,
           "legend": {
            "traceorder": "normal"
           },
           "missingValuesAsZero": true,
           "numberFormat": "0,0.[00000]",
           "percentFormat": "0[.]00%",
           "series": {
            "error_y": {
             "type": "data",
             "visible": true
            },
            "stacking": null
           },
           "seriesOptions": {
            "avg_delay_by_vehicle": {
             "name": "avg_delay_by_vehicle",
             "type": "column",
             "yAxis": 0
            }
           },
           "showDataLabels": false,
           "sizemode": "diameter",
           "sortX": true,
           "sortY": true,
           "swappedAxes": true,
           "textFormat": "",
           "useAggregationsUi": true,
           "valuesOptions": {},
           "version": 2,
           "xAxis": {
            "labels": {
             "enabled": true
            },
            "type": "-"
           },
           "yAxis": [
            {
             "type": "-"
            },
            {
             "opposite": true,
             "type": "-"
            }
           ]
          }
         }
        ]
       },
       "datasetPreviewNameToCmdIdMap": {},
       "diffDeletes": [],
       "diffInserts": [],
       "displayType": "redashChart",
       "error": null,
       "errorDetails": null,
       "errorSummary": null,
       "errorTraceType": null,
       "finishTime": 0,
       "globalVars": {},
       "guid": "",
       "height": "auto",
       "hideCommandCode": false,
       "hideCommandResult": false,
       "iPythonMetadata": null,
       "inputWidgets": {},
       "isLockedInExamMode": false,
       "latestUser": "a user",
       "latestUserId": null,
       "listResultMetadata": null,
       "metadata": {},
       "nuid": "989d54ca-f181-4a9e-ad98-5998fa417a09",
       "origId": 0,
       "parentHierarchy": [],
       "pivotAggregation": null,
       "pivotColumns": null,
       "position": 9.9951171875,
       "resultDbfsErrorMessage": null,
       "resultDbfsStatus": "INLINED_IN_TREE",
       "results": null,
       "showCommandTitle": false,
       "startTime": 0,
       "state": "input",
       "streamStates": {},
       "subcommandOptions": {
        "queryPlan": {
         "selects": [
          {
           "column": "vehicle_type",
           "type": "column"
          },
          {
           "column": "avg_delay_by_vehicle",
           "type": "column"
          },
          {
           "column": "vehicle_type",
           "type": "column"
          }
         ]
        }
       },
       "submitTime": 0,
       "subtype": "tableResultSubCmd.visualization",
       "tableResultIndex": 0,
       "tableResultSettingsMap": {},
       "useConsistentColors": false,
       "version": "CommandV1",
       "width": "auto",
       "workflows": null,
       "xColumns": null,
       "yColumns": null
      }
     },
     "output_type": "display_data"
    }
   ],
   "source": [
    "#average also over the days\n",
    "avg_gold_table_by_all_days= avg_gold_table.groupBy(\"vehicle_type\").agg(avg(\"avg_delay\").alias(\"avg_delay_by_vehicle\")).orderBy(\"vehicle_type\")\n",
    "avg_gold_table_by_all_days.display()"
   ]
  },
  {
   "cell_type": "markdown",
   "metadata": {
    "application/vnd.databricks.v1+cell": {
     "cellMetadata": {},
     "inputWidgets": {},
     "nuid": "21c89c20-f5ce-4c85-a411-18fc6232cbc9",
     "showTitle": false,
     "tableResultSettingsMap": {},
     "title": ""
    }
   },
   "source": [
    "#### Delays in 3-hour windows\n",
    "Proveďte analýzu zpoždění různých typů dopravních prostředků (autobusy, tramvaje, metro, vlaky) v průběhu celého dne. Porovnejte průměrné zpoždění pro každý typ vozidla **a zjistěte, jak se mění v 3 hod. časových intervalech. Výsledky zobrazte v grafu.**"
   ]
  },
  {
   "cell_type": "code",
   "execution_count": 0,
   "metadata": {
    "application/vnd.databricks.v1+cell": {
     "cellMetadata": {
      "byteLimit": 2048000,
      "rowLimit": 10000
     },
     "inputWidgets": {},
     "nuid": "03a02a42-86fb-4348-86d2-7dcb0b869dcc",
     "showTitle": false,
     "tableResultSettingsMap": {},
     "title": ""
    }
   },
   "outputs": [],
   "source": [
    "from pyspark.sql.functions import col, floor, hour\n",
    "\n",
    "gold_table = spark.table(\"fel_pid_topic_data_silver\")\n",
    "\n",
    "## add new column denoting day of the trip\n",
    "gold_table = gold_table.withColumn(\"day\", col(\"timestamp\").cast(\"date\")).orderBy(\"timestamp\")\n",
    "\n",
    "## divide each day into 8 3-hour windows denoted as 1,2,2,3,4,5,6,7,8 from midnight to midnight\n",
    "### extract hour from timestamp\n",
    "gold_table = gold_table.withColumn(\"hour\", hour(col(\"timestamp\")))\n",
    "### divide hour into 8 3-hour windows\n",
    "gold_table = gold_table.withColumn(\"window\", floor(col(\"hour\") / 3))\n",
    "\n",
    "gold_table.display()"
   ]
  },
  {
   "cell_type": "code",
   "execution_count": 0,
   "metadata": {
    "application/vnd.databricks.v1+cell": {
     "cellMetadata": {
      "byteLimit": 2048000,
      "rowLimit": 10000
     },
     "inputWidgets": {},
     "nuid": "9021f345-596e-4fb4-ab24-85273079b1d8",
     "showTitle": false,
     "tableResultSettingsMap": {},
     "title": ""
    }
   },
   "outputs": [],
   "source": [
    "from pyspark.sql.functions import avg\n",
    "\n",
    "#there are in each day and window more rows for each trip_id -> average current delay for each trip_id during a day and window - this way I get the average delay for each trip\n",
    "#this way I can consider each trip in more windows, but as the trip happened during all the windows, I think it is a good representation\n",
    "avg_gold_table_by_vehicle = gold_table.groupBy(\"day\", \"window\", \"vehicle_type\", \"trip_id\").agg(avg(\"current_delay\").alias(\"avg_delay\")).orderBy(\"day\", \"window\", \"vehicle_type\", \"trip_id\")\n",
    "\n",
    "avg_gold_table_by_vehicle.display()\n"
   ]
  },
  {
   "cell_type": "code",
   "execution_count": 0,
   "metadata": {
    "application/vnd.databricks.v1+cell": {
     "cellMetadata": {
      "byteLimit": 2048000,
      "rowLimit": 10000
     },
     "inputWidgets": {},
     "nuid": "ad69404d-d245-4c62-b9e5-969ecb3d2611",
     "showTitle": false,
     "tableResultSettingsMap": {},
     "title": ""
    }
   },
   "outputs": [
    {
     "output_type": "display_data",
     "data": {
      "text/plain": [
       "Databricks visualization. Run in Databricks to view."
      ]
     },
     "metadata": {
      "application/vnd.databricks.v1.subcommand+json": {
       "baseErrorDetails": null,
       "bindings": {},
       "collapsed": false,
       "command": "%python\n__backend_agg_display_orig = display\n__backend_agg_dfs = []\ndef __backend_agg_display_new(df):\n    __backend_agg_df_modules = [\"pandas.core.frame\", \"databricks.koalas.frame\", \"pyspark.sql.dataframe\", \"pyspark.pandas.frame\", \"pyspark.sql.connect.dataframe\"]\n    if (type(df).__module__ in __backend_agg_df_modules and type(df).__name__ == 'DataFrame') or isinstance(df, list):\n        __backend_agg_dfs.append(df)\n\ndisplay = __backend_agg_display_new\n\ndef __backend_agg_user_code_fn():\n    import base64\n    exec(base64.standard_b64decode(\"I25vdyBhdmVyYWdlIHRoZSBkZWxheSBvbmx5IGJ5IHRoZSB3aW5kb3dzIGFuZCB2ZWhpY2xlIHR5cGUKYXZnX2dvbGRfdGFibGVfYnlfYWxsX2RheXMgPSBhdmdfZ29sZF90YWJsZV9ieV92ZWhpY2xlLmdyb3VwQnkoInZlaGljbGVfdHlwZSIsICJ3aW5kb3ciKS5hZ2coYXZnKCJhdmdfZGVsYXkiKS5hbGlhcygiYXZnX2RlbGF5X2J5X3ZlaGljbGUiKSkub3JkZXJCeSgid2luZG93IiwgInZlaGljbGVfdHlwZSIpCmF2Z19nb2xkX3RhYmxlX2J5X2FsbF9kYXlzLmRpc3BsYXkoKQ==\").decode())\n\ntry:\n    # run user code\n    __backend_agg_user_code_fn()\n\n    #reset display function\n    display = __backend_agg_display_orig\n\n    if len(__backend_agg_dfs) > 0:\n        # create a temp view\n        if type(__backend_agg_dfs[0]).__module__ == \"databricks.koalas.frame\":\n            # koalas dataframe\n            __backend_agg_dfs[0].to_spark().createOrReplaceTempView(\"DatabricksView6f7a20d\")\n        elif type(__backend_agg_dfs[0]).__module__ == \"pandas.core.frame\" or isinstance(__backend_agg_dfs[0], list):\n            # pandas dataframe\n            spark.createDataFrame(__backend_agg_dfs[0]).createOrReplaceTempView(\"DatabricksView6f7a20d\")\n        else:\n            __backend_agg_dfs[0].createOrReplaceTempView(\"DatabricksView6f7a20d\")\n        #run backend agg\n        display(spark.sql(\"\"\"WITH q AS (select * from DatabricksView6f7a20d) SELECT `window`,`avg_delay_by_vehicle`,`vehicle_type` FROM q\"\"\"))\n    else:\n        displayHTML(\"dataframe no longer exists. If you're using dataframe.display(), use display(dataframe) instead.\")\n\n\nfinally:\n    spark.sql(\"drop view if exists DatabricksView6f7a20d\")\n    display = __backend_agg_display_orig\n    del __backend_agg_display_new\n    del __backend_agg_display_orig\n    del __backend_agg_dfs\n    del __backend_agg_user_code_fn\n\n",
       "commandTitle": "Visualization 1",
       "commandType": "auto",
       "commandVersion": 0,
       "commentThread": [],
       "commentsVisible": false,
       "contentSha256Hex": null,
       "customPlotOptions": {
        "redashChart": [
         {
          "key": "type",
          "value": "CHART"
         },
         {
          "key": "options",
          "value": {
           "alignYAxesAtZero": true,
           "coefficient": 1,
           "columnConfigurationMap": {
            "series": {
             "column": "vehicle_type",
             "id": "column_45b340b1101"
            },
            "x": {
             "column": "window_hours",
             "id": "column_45b340b1102"
            },
            "y": [
             {
              "column": "avg_delay_by_vehicle",
              "id": "column_45b340b199"
             }
            ]
           },
           "dateTimeFormat": "DD/MM/YYYY HH:mm",
           "direction": {
            "type": "counterclockwise"
           },
           "error_y": {
            "type": "data",
            "visible": true
           },
           "globalSeriesType": "column",
           "isAggregationOn": false,
           "legend": {
            "traceorder": "normal"
           },
           "missingValuesAsZero": true,
           "numberFormat": "0,0.[00000]",
           "percentFormat": "0[.]00%",
           "series": {
            "error_y": {
             "type": "data",
             "visible": true
            },
            "stacking": null
           },
           "seriesOptions": {
            "avg_delay_by_vehicle": {
             "name": "avg_delay_by_vehicle",
             "type": "column",
             "yAxis": 0
            },
            "column_45b340b196": {
             "name": "avg_delay_by_vehicle",
             "type": "column",
             "yAxis": 0
            },
            "night tram": {
             "yAxis": 0
            },
            "regional bus": {
             "yAxis": 0
            },
            "window": {
             "type": "column",
             "yAxis": 0
            }
           },
           "showDataLabels": false,
           "sizemode": "diameter",
           "sortX": false,
           "sortY": true,
           "swappedAxes": false,
           "textFormat": "",
           "useAggregationsUi": true,
           "valuesOptions": {},
           "version": 2,
           "xAxis": {
            "labels": {
             "enabled": true
            },
            "type": "-"
           },
           "yAxis": [
            {
             "type": "-"
            },
            {
             "opposite": true,
             "type": "-"
            }
           ]
          }
         }
        ]
       },
       "datasetPreviewNameToCmdIdMap": {},
       "diffDeletes": [],
       "diffInserts": [],
       "displayType": "redashChart",
       "error": null,
       "errorDetails": null,
       "errorSummary": null,
       "errorTraceType": null,
       "finishTime": 0,
       "globalVars": {},
       "guid": "",
       "height": "auto",
       "hideCommandCode": false,
       "hideCommandResult": false,
       "iPythonMetadata": null,
       "inputWidgets": {},
       "isLockedInExamMode": false,
       "latestUser": "a user",
       "latestUserId": null,
       "listResultMetadata": null,
       "metadata": {},
       "nuid": "971a05f1-56a5-43fd-bb49-73badc0ac22f",
       "origId": 0,
       "parentHierarchy": [],
       "pivotAggregation": null,
       "pivotColumns": null,
       "position": 9.99969482421875,
       "resultDbfsErrorMessage": null,
       "resultDbfsStatus": "INLINED_IN_TREE",
       "results": null,
       "showCommandTitle": false,
       "startTime": 0,
       "state": "input",
       "streamStates": {},
       "subcommandOptions": {
        "queryPlan": {
         "selects": [
          {
           "column": "window_hours",
           "type": "column"
          },
          {
           "column": "avg_delay_by_vehicle",
           "type": "column"
          },
          {
           "column": "vehicle_type",
           "type": "column"
          }
         ]
        }
       },
       "submitTime": 0,
       "subtype": "tableResultSubCmd.visualization",
       "tableResultIndex": 0,
       "tableResultSettingsMap": {},
       "useConsistentColors": false,
       "version": "CommandV1",
       "width": "auto",
       "workflows": null,
       "xColumns": null,
       "yColumns": null
      }
     },
     "output_type": "display_data"
    }
   ],
   "source": [
    "from pyspark.sql.functions import concat, lit, col\n",
    "from pyspark.sql import functions as F\n",
    "\n",
    "#now average the delay only by the windows and vehicle type\n",
    "avg_gold_table_by_all_days = avg_gold_table_by_vehicle.groupBy(\"vehicle_type\", \"window\").agg(avg(\"avg_delay\").alias(\"avg_delay_by_vehicle\")).orderBy(\"window\", \"vehicle_type\")\n",
    "#add column translating window into strings of hours of the day corresponding to the window (e.g. 0 -> \"0-2\")\n",
    "avg_gold_table_by_all_days = avg_gold_table_by_all_days.withColumn(\"window_hours\", F.format_string(\"%s-%s\",  col(\"window\") * 3,  col(\"window\") * 3 + 2))\n",
    "\n",
    "avg_gold_table_by_all_days.display()"
   ]
  },
  {
   "cell_type": "markdown",
   "metadata": {
    "application/vnd.databricks.v1+cell": {
     "cellMetadata": {},
     "inputWidgets": {},
     "nuid": "2ded3b20-3bf5-48ed-beed-47a4920f625a",
     "showTitle": false,
     "tableResultSettingsMap": {},
     "title": ""
    }
   },
   "source": [
    "#### Min average delay places\n",
    "\n",
    "Jako další krok identifikujte 3 místa s nejmenším průměrným zpožděním pro daný typ dopravního prostředku a vizualizujte je na mapě."
   ]
  },
  {
   "cell_type": "code",
   "execution_count": 0,
   "metadata": {
    "application/vnd.databricks.v1+cell": {
     "cellMetadata": {
      "byteLimit": 2048000,
      "rowLimit": 10000
     },
     "inputWidgets": {},
     "nuid": "609453a8-7629-45fa-b767-6a2cc0312f9d",
     "showTitle": false,
     "tableResultSettingsMap": {},
     "title": ""
    }
   },
   "outputs": [],
   "source": [
    "gold_table = spark.table(\"fel_pid_topic_data_silver\")\n",
    "gold_table.display()"
   ]
  },
  {
   "cell_type": "code",
   "execution_count": 0,
   "metadata": {
    "application/vnd.databricks.v1+cell": {
     "cellMetadata": {
      "byteLimit": 2048000,
      "rowLimit": 10000
     },
     "inputWidgets": {},
     "nuid": "3241c83f-6827-4469-8d07-f141295940d3",
     "showTitle": false,
     "tableResultSettingsMap": {},
     "title": ""
    }
   },
   "outputs": [],
   "source": [
    "#count rows in gold_table\n",
    "\n",
    "gold_table.count()"
   ]
  },
  {
   "cell_type": "code",
   "execution_count": 0,
   "metadata": {
    "application/vnd.databricks.v1+cell": {
     "cellMetadata": {
      "byteLimit": 2048000,
      "rowLimit": 10000
     },
     "inputWidgets": {},
     "nuid": "acfe1cd5-337c-4213-bda7-af18ca305ab6",
     "showTitle": false,
     "tableResultSettingsMap": {},
     "title": ""
    }
   },
   "outputs": [],
   "source": [
    "#count rows with unique latitude-longitude combination\n",
    "gold_table.select(\"latitude\", \"longitude\").distinct().count()"
   ]
  },
  {
   "cell_type": "code",
   "execution_count": 0,
   "metadata": {
    "application/vnd.databricks.v1+cell": {
     "cellMetadata": {
      "byteLimit": 2048000,
      "rowLimit": 10000
     },
     "inputWidgets": {},
     "nuid": "ba7f9df1-5484-425a-9a54-e28bcbc47584",
     "showTitle": false,
     "tableResultSettingsMap": {},
     "title": ""
    }
   },
   "outputs": [],
   "source": [
    "from pyspark.sql.functions import round, col\n",
    "#round latitude and logitude to 4 decimal places and count distinct rows\n",
    "gold_table.select(round(col(\"latitude\"), 4).alias(\"latitude\"), round(col(\"longitude\"), 4).alias(\"longitude\")).distinct().count()"
   ]
  },
  {
   "cell_type": "code",
   "execution_count": 0,
   "metadata": {
    "application/vnd.databricks.v1+cell": {
     "cellMetadata": {
      "byteLimit": 2048000,
      "rowLimit": 10000
     },
     "inputWidgets": {},
     "nuid": "01a1d567-b425-478f-a267-fc7c3a09feda",
     "showTitle": false,
     "tableResultSettingsMap": {},
     "title": ""
    }
   },
   "outputs": [],
   "source": [
    "## compute average delay for each vechicle type on specific latitude and longitude\n",
    "places_avg = gold_table.groupBy(\"vehicle_type\", \"latitude\", \"longitude\").agg(avg(\"current_delay\").alias(\"avg_delay\")).orderBy(\"vehicle_type\")"
   ]
  },
  {
   "cell_type": "code",
   "execution_count": 0,
   "metadata": {
    "application/vnd.databricks.v1+cell": {
     "cellMetadata": {
      "byteLimit": 2048000,
      "rowLimit": 10000
     },
     "inputWidgets": {},
     "nuid": "b8015f8d-a17f-4181-903a-f6fc6df5b2ee",
     "showTitle": false,
     "tableResultSettingsMap": {},
     "title": ""
    }
   },
   "outputs": [
    {
     "output_type": "display_data",
     "data": {
      "text/plain": [
       "Databricks visualization. Run in Databricks to view."
      ]
     },
     "metadata": {
      "application/vnd.databricks.v1.subcommand+json": {
       "baseErrorDetails": null,
       "bindings": {},
       "collapsed": false,
       "command": "#3 places for each vehicle type with smallest avg_delay (in each vehicle type separately)\ndfs = []\nfor v_type in places_avg.select(\"vehicle_type\").distinct().collect():\n    df = places_avg.where(col(\"vehicle_type\") == v_type[0]).orderBy(\"avg_delay\").limit(3)\n    dfs.append(df)\n\n#union dfs\nthree_places = dfs[0]\nfor df in dfs[1:]:\n    three_places = three_places.union(df)\n\nthree_places.display()",
       "commandTitle": "Visualization 1",
       "commandType": "auto",
       "commandVersion": 0,
       "commentThread": [],
       "commentsVisible": false,
       "contentSha256Hex": null,
       "customPlotOptions": {
        "redashChart": [
         {
          "key": "type",
          "value": "MAP"
         },
         {
          "key": "options",
          "value": {
           "backgroundColor": "#356AFF",
           "borderColor": "#356AFF",
           "bounds": {
            "_northEast": {
             "lat": 50.143897319727216,
             "lng": 14.67324761338328
            },
            "_southWest": {
             "lat": 50.008612739881926,
             "lng": 14.300055779887188
            }
           },
           "classify": "vehicle_type",
           "clusterMarkers": false,
           "customizeMarkers": false,
           "foregroundColor": "#ffffff",
           "groups": {},
           "iconFont": "circle",
           "iconShape": "marker",
           "latColName": "latitude",
           "lonColName": "longitude",
           "mapTileUrl": "//{s}.tile.openstreetmap.org/{z}/{x}/{y}.png",
           "popup": {
            "enabled": true,
            "template": ""
           },
           "showPlotlyControls": true,
           "tooltip": {
            "enabled": false,
            "template": ""
           }
          }
         }
        ]
       },
       "datasetPreviewNameToCmdIdMap": {},
       "diffDeletes": [],
       "diffInserts": [],
       "displayType": "redashChart",
       "error": null,
       "errorDetails": null,
       "errorSummary": null,
       "errorTraceType": null,
       "finishTime": 0,
       "globalVars": {},
       "guid": "",
       "height": "auto",
       "hideCommandCode": false,
       "hideCommandResult": false,
       "iPythonMetadata": null,
       "inputWidgets": {},
       "isLockedInExamMode": false,
       "latestUser": "a user",
       "latestUserId": null,
       "listResultMetadata": null,
       "metadata": {},
       "nuid": "94803dac-4a99-4a4b-a94a-079b1dfcb6d5",
       "origId": 0,
       "parentHierarchy": [],
       "pivotAggregation": null,
       "pivotColumns": null,
       "position": 9.999980926513672,
       "resultDbfsErrorMessage": null,
       "resultDbfsStatus": "INLINED_IN_TREE",
       "results": null,
       "showCommandTitle": false,
       "startTime": 0,
       "state": "input",
       "streamStates": {},
       "subcommandOptions": {},
       "submitTime": 0,
       "subtype": "tableResultSubCmd.visualization",
       "tableResultIndex": 0,
       "tableResultSettingsMap": {},
       "useConsistentColors": false,
       "version": "CommandV1",
       "width": "auto",
       "workflows": null,
       "xColumns": null,
       "yColumns": null
      }
     },
     "output_type": "display_data"
    }
   ],
   "source": [
    "#3 places for each vehicle type with smallest avg_delay (in each vehicle type separately)\n",
    "dfs = []\n",
    "for v_type in places_avg.select(\"vehicle_type\").distinct().collect():\n",
    "    df = places_avg.where(col(\"vehicle_type\") == v_type[0]).orderBy(\"avg_delay\").limit(3)\n",
    "    dfs.append(df)\n",
    "\n",
    "#union dfs\n",
    "three_places = dfs[0]\n",
    "for df in dfs[1:]:\n",
    "    three_places = three_places.union(df)\n",
    "\n",
    "three_places.display()"
   ]
  },
  {
   "cell_type": "code",
   "execution_count": 0,
   "metadata": {
    "application/vnd.databricks.v1+cell": {
     "cellMetadata": {
      "byteLimit": 2048000,
      "rowLimit": 10000
     },
     "inputWidgets": {},
     "nuid": "481b971c-2071-48fc-ad6f-9609cc092565",
     "showTitle": false,
     "tableResultSettingsMap": {},
     "title": ""
    }
   },
   "outputs": [
    {
     "output_type": "display_data",
     "data": {
      "text/plain": [
       "Databricks visualization. Run in Databricks to view."
      ]
     },
     "metadata": {
      "application/vnd.databricks.v1.subcommand+json": {
       "baseErrorDetails": null,
       "bindings": {},
       "collapsed": false,
       "command": "## now the same thing but with latitude and longitude rounded to 4 decimal places\n# round to 4 decimal places\nplaces_avg = gold_table.withColumn(\"latitude\", round(col(\"latitude\"), 4))\nplaces_avg = places_avg.withColumn(\"longitude\", round(col(\"longitude\"), 4))\n\nplaces_avg = places_avg.groupBy(\"vehicle_type\", \"latitude\", \"longitude\").agg(avg(\"current_delay\").alias(\"avg_delay\")).orderBy(\"vehicle_type\")\n\n#3 places for each vehicle type with smallest avg_delay (in each vehicle type separately)\ndfs = []\nfor v_type in places_avg.select(\"vehicle_type\").distinct().collect():\n    df = places_avg.where(col(\"vehicle_type\") == v_type[0]).orderBy(\"avg_delay\").limit(3)\n    dfs.append(df)\n\n#union dfs\nthree_places = dfs[0]\nfor df in dfs[1:]:\n    three_places = three_places.union(df)\n\nthree_places.display()",
       "commandTitle": "Visualization 1",
       "commandType": "auto",
       "commandVersion": 0,
       "commentThread": [],
       "commentsVisible": false,
       "contentSha256Hex": null,
       "customPlotOptions": {
        "redashChart": [
         {
          "key": "type",
          "value": "MAP"
         },
         {
          "key": "options",
          "value": {
           "backgroundColor": "#356AFF",
           "borderColor": "#356AFF",
           "bounds": null,
           "classify": "vehicle_type",
           "clusterMarkers": false,
           "customizeMarkers": false,
           "foregroundColor": "#ffffff",
           "groups": {},
           "iconFont": "circle",
           "iconShape": "marker",
           "latColName": "latitude",
           "lonColName": "longitude",
           "mapTileUrl": "//{s}.tile.openstreetmap.org/{z}/{x}/{y}.png",
           "popup": {
            "enabled": true,
            "template": ""
           },
           "tooltip": {
            "enabled": false,
            "template": ""
           }
          }
         }
        ]
       },
       "datasetPreviewNameToCmdIdMap": {},
       "diffDeletes": [],
       "diffInserts": [],
       "displayType": "redashChart",
       "error": null,
       "errorDetails": null,
       "errorSummary": null,
       "errorTraceType": null,
       "finishTime": 0,
       "globalVars": {},
       "guid": "",
       "height": "auto",
       "hideCommandCode": false,
       "hideCommandResult": false,
       "iPythonMetadata": null,
       "inputWidgets": {},
       "isLockedInExamMode": false,
       "latestUser": "a user",
       "latestUserId": null,
       "listResultMetadata": null,
       "metadata": {},
       "nuid": "871b0d85-49fe-4fb0-972a-1840063d1598",
       "origId": 0,
       "parentHierarchy": [],
       "pivotAggregation": null,
       "pivotColumns": null,
       "position": 9.999990463256836,
       "resultDbfsErrorMessage": null,
       "resultDbfsStatus": "INLINED_IN_TREE",
       "results": null,
       "showCommandTitle": false,
       "startTime": 0,
       "state": "input",
       "streamStates": {},
       "subcommandOptions": {},
       "submitTime": 0,
       "subtype": "tableResultSubCmd.visualization",
       "tableResultIndex": 0,
       "tableResultSettingsMap": {},
       "useConsistentColors": false,
       "version": "CommandV1",
       "width": "auto",
       "workflows": null,
       "xColumns": null,
       "yColumns": null
      }
     },
     "output_type": "display_data"
    }
   ],
   "source": [
    "## now the same thing but with latitude and longitude rounded to 4 decimal places -> sufficient to around 10 m precision\n",
    "# round to 4 decimal places\n",
    "places_avg = gold_table.withColumn(\"latitude\", round(col(\"latitude\"), 4))\n",
    "places_avg = places_avg.withColumn(\"longitude\", round(col(\"longitude\"), 4))\n",
    "\n",
    "places_avg = places_avg.groupBy(\"vehicle_type\", \"latitude\", \"longitude\").agg(avg(\"current_delay\").alias(\"avg_delay\")).orderBy(\"vehicle_type\")\n",
    "\n",
    "#3 places for each vehicle type with smallest avg_delay (in each vehicle type separately)\n",
    "dfs = []\n",
    "for v_type in places_avg.select(\"vehicle_type\").distinct().collect():\n",
    "    df = places_avg.where(col(\"vehicle_type\") == v_type[0]).orderBy(\"avg_delay\").limit(3)\n",
    "    dfs.append(df)\n",
    "\n",
    "#union dfs\n",
    "three_places = dfs[0]\n",
    "for df in dfs[1:]:\n",
    "    three_places = three_places.union(df)\n",
    "\n",
    "three_places.display()"
   ]
  },
  {
   "cell_type": "markdown",
   "metadata": {
    "application/vnd.databricks.v1+cell": {
     "cellMetadata": {},
     "inputWidgets": {},
     "nuid": "f5e91761-002c-4d45-8c67-2a47ab96447b",
     "showTitle": false,
     "tableResultSettingsMap": {},
     "title": ""
    }
   },
   "source": [
    "## Full stream processing"
   ]
  },
  {
   "cell_type": "code",
   "execution_count": 0,
   "metadata": {
    "application/vnd.databricks.v1+cell": {
     "cellMetadata": {
      "byteLimit": 2048000,
      "rowLimit": 10000
     },
     "inputWidgets": {},
     "nuid": "2f486b6d-8337-47ce-8034-ccecce153912",
     "showTitle": false,
     "tableResultSettingsMap": {},
     "title": ""
    }
   },
   "outputs": [],
   "source": [
    "#read data as a stream\n",
    "raw = (\n",
    "    spark\n",
    "        .readStream\n",
    "        .format('kafka')\n",
    "        .option('kafka.bootstrap.servers', KAFKA_CLUSTER)\n",
    "        .option('subscribe', TOPIC)\n",
    "        .option('startingOffsets', \"earliest\")\n",
    "        .option('kafka.sasl.mechanism', 'SCRAM-SHA-512')\n",
    "        .option('kafka.security.protocol', 'SASL_SSL')\n",
    "        .option('kafka.sasl.jaas.config', 'kafkashaded.org.apache.kafka.common.security.scram.ScramLoginModule required username=\"FELPIDUSER\" password=\"dzs3c1vldy6np5\";')\n",
    "        .load()\n",
    ")\n",
    "\n",
    "#nebo lze jen sparkread a ten si sáhne do kafky a stáhne co má aktuálně k dispozici - lze nastvit offset (teď kafka obsahuje všechno)\n",
    "\n",
    "checkpoint = '/mnt/pid/checkpoint_file2.txt'\n",
    "\n",
    "(raw.writeStream\n",
    "   .format(\"delta\")\n",
    "   .outputMode(\"append\")\n",
    "   .option(\"checkpointLocation\", checkpoint)\n",
    "   .toTable(\"fel_pid_topic_data_stream\")\n",
    ")"
   ]
  },
  {
   "cell_type": "markdown",
   "metadata": {
    "application/vnd.databricks.v1+cell": {
     "cellMetadata": {},
     "inputWidgets": {},
     "nuid": "138dfb11-87d1-40b5-998f-0ff1596bcb48",
     "showTitle": false,
     "tableResultSettingsMap": {},
     "title": ""
    }
   },
   "source": [
    "### Bronze stream"
   ]
  },
  {
   "cell_type": "code",
   "execution_count": 0,
   "metadata": {
    "application/vnd.databricks.v1+cell": {
     "cellMetadata": {
      "byteLimit": 2048000,
      "rowLimit": 10000
     },
     "inputWidgets": {},
     "nuid": "1f222c8f-0688-4bb1-9edd-667e8b94d7cd",
     "showTitle": false,
     "tableResultSettingsMap": {},
     "title": ""
    }
   },
   "outputs": [],
   "source": [
    "%python\n",
    "from pyspark.sql.functions import from_json, col\n",
    "\n",
    "## load data as dataframe\n",
    "pid_data_df = spark.readStream.format(\"delta\").table(\"fel_pid_topic_data_stream\")\n",
    "\n",
    "## retype value column to string\n",
    "pid_data_df = pid_data_df.withColumn(\"value\", pid_data_df[\"value\"].cast(\"string\"))\n",
    "\n",
    "## unwrap the data in value column (list of dictionaries) and have them on separate rows\n",
    "pid_data_df = pid_data_df.withColumn(\"value\", from_json(col(\"value\"), SCHEMA))\n",
    "pid_data_df = pid_data_df.selectExpr(\"explode(value) as value\", \"timestamp\")\n",
    "\n",
    "## now extract value into 3 columns - geometry, properties, type\n",
    "pid_data_df = pid_data_df.withColumn(\"geometry\", pid_data_df[\"value.geometry\"])\n",
    "pid_data_df = pid_data_df.withColumn(\"properties\", pid_data_df[\"value.properties\"])\n",
    "pid_data_df = pid_data_df.withColumn(\"type\", pid_data_df[\"value.type\"])\n",
    "\n",
    "## drop value column\n",
    "pid_data_df = pid_data_df.drop(\"value\")\n",
    "\n",
    "#order to better see result\n",
    "#pid_data_df = pid_data_df.orderBy(\"timestamp\")\n",
    "\n",
    "#display the result -> only now something is computed\n",
    "#pid_data_df.display()\n",
    "\n",
    "#save the bronze table\n",
    "checkpoint_bronze = '/mnt/pid/checkpoint_bronze'\n",
    "pid_data_df.writeStream.format(\"delta\").outputMode(\"append\").option(\"checkpointLocation\", checkpoint_bronze).toTable(\"bronze_table_stream\")"
   ]
  },
  {
   "cell_type": "markdown",
   "metadata": {
    "application/vnd.databricks.v1+cell": {
     "cellMetadata": {},
     "inputWidgets": {},
     "nuid": "b603893f-7b3c-43df-94d7-ed4c4b2d1a75",
     "showTitle": false,
     "tableResultSettingsMap": {},
     "title": ""
    }
   },
   "source": [
    "### Silver Stream"
   ]
  },
  {
   "cell_type": "code",
   "execution_count": 0,
   "metadata": {
    "application/vnd.databricks.v1+cell": {
     "cellMetadata": {
      "byteLimit": 2048000,
      "rowLimit": 10000
     },
     "inputWidgets": {},
     "nuid": "2bed4a18-fd32-49d6-865c-4e0d34c2f716",
     "showTitle": false,
     "tableResultSettingsMap": {},
     "title": ""
    }
   },
   "outputs": [],
   "source": [
    "from pyspark.sql.functions import when, col, lit\n",
    "\n",
    "## load bronze table stream\n",
    "bronze_table = spark.readStream.format(\"delta\").table(\"bronze_table_stream\")\n",
    "\n",
    "silver_table = (bronze_table\n",
    "                .withColumn(\"latitude\", col(\"geometry.coordinates\")[1])\n",
    "                .withColumn(\"longitude\", col(\"geometry.coordinates\")[0])\n",
    "                .withColumn(\"vehicle_type\", when(col(\"properties.trip.vehicle_type.description_en\").isNotNull(), col(\"properties.trip.vehicle_type.description_en\")).otherwise(lit(\"train\")))\n",
    "                .withColumn(\"trip_id\", col(\"properties.trip.gtfs.trip_id\"))\n",
    "                .withColumn(\"line_name\", col(\"properties.trip.gtfs.route_short_name\"))\n",
    "                .withColumn(\"timestamp\", col(\"properties.last_position.origin_timestamp\").cast(\"timestamp\"))\n",
    "                .withColumn(\"current_delay\", col(\"properties.last_position.delay.actual\"))\n",
    "                )\n",
    "\n",
    "#drop geometry and properties\n",
    "silver_table = silver_table.drop(\"geometry\", \"properties\")\n",
    "\n",
    "#silver_table.display()\n",
    "\n",
    "#save the silver table\n",
    "checkpoint_silver = '/mnt/pid/checkpoint_silver2'\n",
    "silver_table.writeStream.format(\"delta\").outputMode(\"append\").option(\"checkpointLocation\", checkpoint_silver).toTable(\"silver_table_stream2\")"
   ]
  },
  {
   "cell_type": "markdown",
   "metadata": {
    "application/vnd.databricks.v1+cell": {
     "cellMetadata": {},
     "inputWidgets": {},
     "nuid": "1f0ee6c8-baea-4754-8637-3c7f4a71b6ae",
     "showTitle": false,
     "tableResultSettingsMap": {},
     "title": ""
    }
   },
   "source": [
    "### Gold Stream"
   ]
  },
  {
   "cell_type": "markdown",
   "metadata": {
    "application/vnd.databricks.v1+cell": {
     "cellMetadata": {},
     "inputWidgets": {},
     "nuid": "0b379bf3-0655-44f7-82da-3439eb86b896",
     "showTitle": false,
     "tableResultSettingsMap": {},
     "title": ""
    }
   },
   "source": [
    "#### Day analysis"
   ]
  },
  {
   "cell_type": "code",
   "execution_count": 0,
   "metadata": {
    "application/vnd.databricks.v1+cell": {
     "cellMetadata": {
      "byteLimit": 2048000,
      "rowLimit": 10000
     },
     "inputWidgets": {},
     "nuid": "1a24d13f-da98-42a6-af62-442ddad94051",
     "showTitle": false,
     "tableResultSettingsMap": {},
     "title": ""
    }
   },
   "outputs": [
    {
     "output_type": "display_data",
     "data": {
      "text/plain": [
       "Databricks visualization. Run in Databricks to view."
      ]
     },
     "metadata": {
      "application/vnd.databricks.v1.subcommand+json": {
       "baseErrorDetails": null,
       "bindings": {},
       "collapsed": false,
       "command": "# Databricks no-op command",
       "commandTitle": "Visualization 1",
       "commandType": "auto",
       "commandVersion": 0,
       "commentThread": [],
       "commentsVisible": false,
       "contentSha256Hex": null,
       "customPlotOptions": {
        "redashChart": [
         {
          "key": "type",
          "value": "CHART"
         },
         {
          "key": "options",
          "value": {
           "alignYAxesAtZero": true,
           "coefficient": 1,
           "columnConfigurationMap": {
            "series": {
             "column": "vehicle_type",
             "id": "column_45b340b1166"
            },
            "x": {
             "column": "day",
             "id": "column_45b340b1165"
            },
            "y": [
             {
              "column": "avg_delay_by_vehicle",
              "id": "column_45b340b1167",
              "transform": "SUM"
             }
            ]
           },
           "dateTimeFormat": "DD/MM/YYYY HH:mm",
           "direction": {
            "type": "counterclockwise"
           },
           "error_y": {
            "type": "data",
            "visible": true
           },
           "globalSeriesType": "column",
           "legend": {
            "traceorder": "normal"
           },
           "missingValuesAsZero": true,
           "numberFormat": "0,0.[00000]",
           "percentFormat": "0[.]00%",
           "series": {
            "error_y": {
             "type": "data",
             "visible": true
            },
            "stacking": null
           },
           "seriesOptions": {
            "column_45b340b1167": {
             "name": "avg_delay_by_vehicle",
             "type": "column",
             "yAxis": 0
            }
           },
           "showDataLabels": false,
           "sizemode": "diameter",
           "sortX": true,
           "sortY": true,
           "swappedAxes": false,
           "textFormat": "",
           "useAggregationsUi": true,
           "valuesOptions": {},
           "version": 2,
           "xAxis": {
            "labels": {
             "enabled": true
            },
            "type": "-"
           },
           "yAxis": [
            {
             "type": "-"
            },
            {
             "opposite": true,
             "type": "-"
            }
           ]
          }
         }
        ]
       },
       "datasetPreviewNameToCmdIdMap": {},
       "diffDeletes": [],
       "diffInserts": [],
       "displayType": "redashChart",
       "error": null,
       "errorDetails": null,
       "errorSummary": null,
       "errorTraceType": null,
       "finishTime": 0,
       "globalVars": {},
       "guid": "",
       "height": "auto",
       "hideCommandCode": false,
       "hideCommandResult": false,
       "iPythonMetadata": null,
       "inputWidgets": {},
       "isLockedInExamMode": false,
       "latestUser": "a user",
       "latestUserId": null,
       "listResultMetadata": null,
       "metadata": {},
       "nuid": "cc300f6d-733b-43a3-8689-6136e3d7c74c",
       "origId": 0,
       "parentHierarchy": [],
       "pivotAggregation": null,
       "pivotColumns": null,
       "position": 13.59375,
       "resultDbfsErrorMessage": null,
       "resultDbfsStatus": "INLINED_IN_TREE",
       "results": null,
       "showCommandTitle": false,
       "startTime": 0,
       "state": "input",
       "streamStates": {},
       "subcommandOptions": {
        "queryPlan": {
         "groups": [
          {
           "column": "day",
           "type": "column"
          },
          {
           "column": "vehicle_type",
           "type": "column"
          }
         ],
         "selects": [
          {
           "column": "day",
           "type": "column"
          },
          {
           "column": "vehicle_type",
           "type": "column"
          },
          {
           "alias": "column_45b340b1167",
           "args": [
            {
             "column": "avg_delay_by_vehicle",
             "type": "column"
            }
           ],
           "function": "SUM",
           "type": "function"
          }
         ]
        }
       },
       "submitTime": 0,
       "subtype": "tableResultSubCmd.visualization",
       "tableResultIndex": 0,
       "tableResultSettingsMap": {},
       "useConsistentColors": false,
       "version": "CommandV1",
       "width": "auto",
       "workflows": null,
       "xColumns": null,
       "yColumns": null
      }
     },
     "output_type": "display_data"
    }
   ],
   "source": [
    "\n",
    "from pyspark.sql.functions import avg\n",
    "\n",
    "gold_table = spark.readStream.format(\"delta\").table(\"silver_table_stream2\")\n",
    "\n",
    "## add new column denoting day of the trip\n",
    "gold_table = gold_table.withColumn(\"day\", col(\"timestamp\").cast(\"date\"))\n",
    "\n",
    "#there are in each day more rows for each trip_id -> average current delay for each trip_id during a day - this way I get the average delay for each trip\n",
    "avg_gold_table = gold_table.groupBy(\"day\", \"trip_id\", \"vehicle_type\").agg(avg(\"current_delay\").alias(\"avg_delay\"))\n",
    "\n",
    "#average for each vehichle_type in a day\n",
    "avg_gold_table_by_vehicle = avg_gold_table.groupBy(\"day\", \"vehicle_type\").agg(avg(\"avg_delay\").alias(\"avg_delay_by_vehicle\"))\n",
    "avg_gold_table_by_vehicle.display()\n"
   ]
  },
  {
   "cell_type": "code",
   "execution_count": 0,
   "metadata": {
    "application/vnd.databricks.v1+cell": {
     "cellMetadata": {
      "byteLimit": 2048000,
      "rowLimit": 10000
     },
     "inputWidgets": {},
     "nuid": "1e738a69-8032-4833-be23-0c7521e823ed",
     "showTitle": false,
     "tableResultSettingsMap": {},
     "title": ""
    }
   },
   "outputs": [
    {
     "output_type": "display_data",
     "data": {
      "text/plain": [
       "Databricks visualization. Run in Databricks to view."
      ]
     },
     "metadata": {
      "application/vnd.databricks.v1.subcommand+json": {
       "baseErrorDetails": null,
       "bindings": {},
       "collapsed": false,
       "command": "# Databricks no-op command",
       "commandTitle": "Visualization 1",
       "commandType": "auto",
       "commandVersion": 0,
       "commentThread": [],
       "commentsVisible": false,
       "contentSha256Hex": null,
       "customPlotOptions": {
        "redashChart": [
         {
          "key": "type",
          "value": "CHART"
         },
         {
          "key": "options",
          "value": {
           "alignYAxesAtZero": true,
           "coefficient": 1,
           "columnConfigurationMap": {
            "series": {
             "column": "vehicle_type",
             "id": "column_45b340b1171"
            },
            "x": {
             "column": "vehicle_type",
             "id": "column_45b340b1169"
            },
            "y": [
             {
              "column": "avg_delay_by_vehicle",
              "id": "column_45b340b1170",
              "transform": "SUM"
             }
            ]
           },
           "dateTimeFormat": "DD/MM/YYYY HH:mm",
           "direction": {
            "type": "counterclockwise"
           },
           "error_y": {
            "type": "data",
            "visible": true
           },
           "globalSeriesType": "column",
           "isAggregationOn": true,
           "legend": {
            "traceorder": "normal"
           },
           "missingValuesAsZero": true,
           "numberFormat": "0,0.[00000]",
           "percentFormat": "0[.]00%",
           "series": {
            "error_y": {
             "type": "data",
             "visible": true
            },
            "stacking": null
           },
           "seriesOptions": {
            "column_45b340b1170": {
             "name": "avg_delay_by_vehicle",
             "yAxis": 0
            }
           },
           "showDataLabels": false,
           "sizemode": "diameter",
           "sortX": true,
           "sortY": true,
           "swappedAxes": true,
           "textFormat": "",
           "useAggregationsUi": true,
           "valuesOptions": {},
           "version": 2,
           "xAxis": {
            "labels": {
             "enabled": true
            },
            "type": "-"
           },
           "yAxis": [
            {
             "type": "-"
            },
            {
             "opposite": true,
             "type": "-"
            }
           ]
          }
         }
        ]
       },
       "datasetPreviewNameToCmdIdMap": {},
       "diffDeletes": [],
       "diffInserts": [],
       "displayType": "redashChart",
       "error": null,
       "errorDetails": null,
       "errorSummary": null,
       "errorTraceType": null,
       "finishTime": 0,
       "globalVars": {},
       "guid": "",
       "height": "auto",
       "hideCommandCode": false,
       "hideCommandResult": false,
       "iPythonMetadata": null,
       "inputWidgets": {},
       "isLockedInExamMode": false,
       "latestUser": "a user",
       "latestUserId": null,
       "listResultMetadata": null,
       "metadata": {},
       "nuid": "49c6a724-f8e1-49c6-bf66-d74113bad117",
       "origId": 0,
       "parentHierarchy": [],
       "pivotAggregation": null,
       "pivotColumns": null,
       "position": 13.609375,
       "resultDbfsErrorMessage": null,
       "resultDbfsStatus": "INLINED_IN_TREE",
       "results": null,
       "showCommandTitle": false,
       "startTime": 0,
       "state": "input",
       "streamStates": {},
       "subcommandOptions": {
        "queryPlan": {
         "groups": [
          {
           "column": "vehicle_type",
           "type": "column"
          },
          {
           "column": "vehicle_type",
           "type": "column"
          }
         ],
         "selects": [
          {
           "column": "vehicle_type",
           "type": "column"
          },
          {
           "alias": "column_45b340b1170",
           "args": [
            {
             "column": "avg_delay_by_vehicle",
             "type": "column"
            }
           ],
           "function": "SUM",
           "type": "function"
          },
          {
           "column": "vehicle_type",
           "type": "column"
          }
         ]
        }
       },
       "submitTime": 0,
       "subtype": "tableResultSubCmd.visualization",
       "tableResultIndex": 0,
       "tableResultSettingsMap": {},
       "useConsistentColors": false,
       "version": "CommandV1",
       "width": "auto",
       "workflows": null,
       "xColumns": null,
       "yColumns": null
      }
     },
     "output_type": "display_data"
    }
   ],
   "source": [
    "from pyspark.sql.functions import avg\n",
    "\n",
    "gold_table = spark.readStream.format(\"delta\").table(\"silver_table_stream2\")\n",
    "\n",
    "## add new column denoting day of the trip\n",
    "gold_table = gold_table.withColumn(\"day\", col(\"timestamp\").cast(\"date\"))\n",
    "\n",
    "#there are in each day more rows for each trip_id -> average current delay for each trip_id during a day - this way I get the average delay for each trip\n",
    "avg_gold_table = gold_table.groupBy(\"day\", \"trip_id\", \"vehicle_type\").agg(avg(\"current_delay\").alias(\"avg_delay\"))\n",
    "#average also over the days\n",
    "avg_gold_table_by_all_days= avg_gold_table.groupBy(\"vehicle_type\").agg(avg(\"avg_delay\").alias(\"avg_delay_by_vehicle\"))\n",
    "avg_gold_table_by_all_days.display()"
   ]
  },
  {
   "cell_type": "markdown",
   "metadata": {
    "application/vnd.databricks.v1+cell": {
     "cellMetadata": {},
     "inputWidgets": {},
     "nuid": "aa0fa2ad-85cd-4f79-911f-0b6350134e64",
     "showTitle": false,
     "tableResultSettingsMap": {},
     "title": ""
    }
   },
   "source": [
    "#### 3 hour windows"
   ]
  },
  {
   "cell_type": "code",
   "execution_count": 0,
   "metadata": {
    "application/vnd.databricks.v1+cell": {
     "cellMetadata": {
      "byteLimit": 2048000,
      "rowLimit": 10000
     },
     "inputWidgets": {},
     "nuid": "3fe674f6-fed8-47cc-9e3f-aa9d773cb586",
     "showTitle": false,
     "tableResultSettingsMap": {},
     "title": ""
    }
   },
   "outputs": [
    {
     "output_type": "display_data",
     "data": {
      "text/plain": [
       "Databricks visualization. Run in Databricks to view."
      ]
     },
     "metadata": {
      "application/vnd.databricks.v1.subcommand+json": {
       "baseErrorDetails": null,
       "bindings": {},
       "collapsed": false,
       "command": "# Databricks no-op command",
       "commandTitle": "Visualization 1",
       "commandType": "auto",
       "commandVersion": 0,
       "commentThread": [],
       "commentsVisible": false,
       "contentSha256Hex": null,
       "customPlotOptions": {
        "redashChart": [
         {
          "key": "type",
          "value": "CHART"
         },
         {
          "key": "options",
          "value": {
           "alignYAxesAtZero": true,
           "coefficient": 1,
           "columnConfigurationMap": {
            "series": {
             "column": "vehicle_type",
             "id": "column_45b340b1162"
            },
            "x": {
             "column": "window_hours",
             "id": "column_45b340b1159"
            },
            "y": [
             {
              "column": "avg_delay_by_vehicle",
              "id": "column_45b340b1161"
             }
            ]
           },
           "dateTimeFormat": "DD/MM/YYYY HH:mm",
           "direction": {
            "type": "counterclockwise"
           },
           "error_y": {
            "type": "data",
            "visible": true
           },
           "globalSeriesType": "column",
           "isAggregationOn": false,
           "legend": {
            "traceorder": "normal"
           },
           "missingValuesAsZero": true,
           "numberFormat": "0,0.[00000]",
           "percentFormat": "0[.]00%",
           "series": {
            "error_y": {
             "type": "data",
             "visible": true
            },
            "stacking": null
           },
           "seriesOptions": {
            "avg_delay_by_vehicle": {
             "type": "column",
             "yAxis": 0
            }
           },
           "showDataLabels": false,
           "sizemode": "diameter",
           "sortX": true,
           "sortY": true,
           "swappedAxes": false,
           "textFormat": "",
           "useAggregationsUi": true,
           "valuesOptions": {},
           "version": 2,
           "xAxis": {
            "labels": {
             "enabled": true
            },
            "type": "-"
           },
           "yAxis": [
            {
             "type": "-"
            },
            {
             "opposite": true,
             "type": "-"
            }
           ]
          }
         }
        ]
       },
       "datasetPreviewNameToCmdIdMap": {},
       "diffDeletes": [],
       "diffInserts": [],
       "displayType": "redashChart",
       "error": null,
       "errorDetails": null,
       "errorSummary": null,
       "errorTraceType": null,
       "finishTime": 0,
       "globalVars": {},
       "guid": "",
       "height": "auto",
       "hideCommandCode": false,
       "hideCommandResult": false,
       "iPythonMetadata": null,
       "inputWidgets": {},
       "isLockedInExamMode": false,
       "latestUser": "a user",
       "latestUserId": null,
       "listResultMetadata": null,
       "metadata": {},
       "nuid": "7c711a65-c719-4da7-9b4a-037402ebab08",
       "origId": 0,
       "parentHierarchy": [],
       "pivotAggregation": null,
       "pivotColumns": null,
       "position": 13.6875,
       "resultDbfsErrorMessage": null,
       "resultDbfsStatus": "INLINED_IN_TREE",
       "results": null,
       "showCommandTitle": false,
       "startTime": 0,
       "state": "input",
       "streamStates": {},
       "subcommandOptions": {
        "queryPlan": {
         "selects": [
          {
           "column": "window_hours",
           "type": "column"
          },
          {
           "column": "avg_delay_by_vehicle",
           "type": "column"
          },
          {
           "column": "vehicle_type",
           "type": "column"
          }
         ]
        }
       },
       "submitTime": 0,
       "subtype": "tableResultSubCmd.visualization",
       "tableResultIndex": 0,
       "tableResultSettingsMap": {},
       "useConsistentColors": false,
       "version": "CommandV1",
       "width": "auto",
       "workflows": null,
       "xColumns": null,
       "yColumns": null
      }
     },
     "output_type": "display_data"
    }
   ],
   "source": [
    "from pyspark.sql.functions import col, floor, hour, avg\n",
    "\n",
    "spark.conf.set(\"spark.sql.streaming.statefulOperator.checkCorrectness.enabled\", \"false\")\n",
    "\n",
    "gold_table = spark.readStream.format(\"delta\").table(\"silver_table_stream2\").withWatermark(\"timestamp\", \"10 minutes\")\n",
    "\n",
    "## add new column denoting day of the trip\n",
    "gold_table = gold_table.withColumn(\"day\", col(\"timestamp\").cast(\"date\"))\n",
    "\n",
    "## divide each day into 8 3-hour windows denoted as 1,2,2,3,4,5,6,7,8 from midnight to midnight\n",
    "### extract hour from timestamp\n",
    "gold_table = gold_table.withColumn(\"hour\", hour(col(\"timestamp\")))\n",
    "### divide hour into 8 3-hour windows\n",
    "gold_table = gold_table.withColumn(\"window\", floor(col(\"hour\") / 3))\n",
    "\n",
    "avg_gold_table_by_vehicle = gold_table.groupBy(\"day\", \"window\", \"vehicle_type\", \"trip_id\").agg(avg(\"current_delay\").alias(\"avg_delay\"))\n",
    "from pyspark.sql.functions import concat, lit, col\n",
    "from pyspark.sql import functions as F\n",
    "\n",
    "#now average the delay only by the windows and vehicle type\n",
    "avg_gold_table_by_all_days = avg_gold_table_by_vehicle.groupBy(\"vehicle_type\", \"window\").agg(avg(\"avg_delay\").alias(\"avg_delay_by_vehicle\"))\n",
    "#add column translating window into strings of hours of the day corresponding to the window (e.g. 0 -> \"0-2\")\n",
    "avg_gold_table_by_all_days = avg_gold_table_by_all_days.withColumn(\"window_hours\", F.format_string(\"%s-%s\",  col(\"window\") * 3,  col(\"window\") * 3 + 2))\n",
    "\n",
    "# Display the result\n",
    "display(avg_gold_table_by_all_days)"
   ]
  },
  {
   "cell_type": "markdown",
   "metadata": {
    "application/vnd.databricks.v1+cell": {
     "cellMetadata": {},
     "inputWidgets": {},
     "nuid": "202d9c23-9411-44da-8dd7-d11526738a0c",
     "showTitle": false,
     "tableResultSettingsMap": {},
     "title": ""
    }
   },
   "source": [
    "#### Stream analysis of locations with minimum delays"
   ]
  },
  {
   "cell_type": "code",
   "execution_count": 0,
   "metadata": {
    "application/vnd.databricks.v1+cell": {
     "cellMetadata": {
      "byteLimit": 2048000,
      "rowLimit": 10000
     },
     "inputWidgets": {},
     "nuid": "7e27526a-9aee-47e1-b774-054f6c00a44a",
     "showTitle": false,
     "tableResultSettingsMap": {},
     "title": ""
    }
   },
   "outputs": [
    {
     "output_type": "display_data",
     "data": {
      "text/plain": [
       "Databricks visualization. Run in Databricks to view."
      ]
     },
     "metadata": {
      "application/vnd.databricks.v1.subcommand+json": {
       "baseErrorDetails": null,
       "bindings": {},
       "collapsed": false,
       "command": "gold_table = spark.readStream.format(\"delta\").table(\"silver_table_stream2\")\nplaces_avg = gold_table.groupBy(\"vehicle_type\", \"latitude\", \"longitude\").agg(avg(\"current_delay\").alias(\"avg_delay\")).orderBy(\"vehicle_type\")\n\n# Get the top 3 places for each vehicle type with the smallest average delay\nfrom pyspark.sql.window import Window\nfrom pyspark.sql.functions import row_number\n\nwindow_spec = Window.partitionBy(\"vehicle_type\").orderBy(\"avg_delay\")\nplaces_ranked = places_avg.withColumn(\"rank\", row_number().over(window_spec)).filter(col(\"rank\") <= 3)\n\nthree_places.display()",
       "commandTitle": "Visualization 1",
       "commandType": "auto",
       "commandVersion": 0,
       "commentThread": [],
       "commentsVisible": false,
       "contentSha256Hex": null,
       "customPlotOptions": {
        "redashChart": [
         {
          "key": "type",
          "value": "MAP"
         },
         {
          "key": "options",
          "value": {
           "backgroundColor": "#356AFF",
           "borderColor": "#356AFF",
           "bounds": null,
           "classify": "vehicle_type",
           "clusterMarkers": false,
           "customizeMarkers": false,
           "foregroundColor": "#ffffff",
           "groups": {},
           "iconFont": "circle",
           "iconShape": "marker",
           "latColName": "latitude",
           "lonColName": "longitude",
           "mapTileUrl": "//{s}.tile.openstreetmap.org/{z}/{x}/{y}.png",
           "popup": {
            "enabled": true,
            "template": ""
           },
           "tooltip": {
            "enabled": false,
            "template": ""
           }
          }
         }
        ]
       },
       "datasetPreviewNameToCmdIdMap": {},
       "diffDeletes": [],
       "diffInserts": [],
       "displayType": "redashChart",
       "error": null,
       "errorDetails": null,
       "errorSummary": null,
       "errorTraceType": null,
       "finishTime": 0,
       "globalVars": {},
       "guid": "",
       "height": "auto",
       "hideCommandCode": false,
       "hideCommandResult": false,
       "iPythonMetadata": null,
       "inputWidgets": {},
       "isLockedInExamMode": false,
       "latestUser": "a user",
       "latestUserId": null,
       "listResultMetadata": null,
       "metadata": {},
       "nuid": "268224a6-eac1-4cbd-8315-835e0998f141",
       "origId": 0,
       "parentHierarchy": [],
       "pivotAggregation": null,
       "pivotColumns": null,
       "position": 14.0,
       "resultDbfsErrorMessage": null,
       "resultDbfsStatus": "INLINED_IN_TREE",
       "results": null,
       "showCommandTitle": false,
       "startTime": 0,
       "state": "input",
       "streamStates": {},
       "subcommandOptions": {},
       "submitTime": 0,
       "subtype": "tableResultSubCmd.visualization",
       "tableResultIndex": 0,
       "tableResultSettingsMap": {},
       "useConsistentColors": false,
       "version": "CommandV1",
       "width": "auto",
       "workflows": null,
       "xColumns": null,
       "yColumns": null
      }
     },
     "output_type": "display_data"
    }
   ],
   "source": [
    "gold_table = spark.readStream.format(\"delta\").table(\"silver_table_stream2\")\n",
    "places_avg = gold_table.groupBy(\"vehicle_type\", \"latitude\", \"longitude\").agg(avg(\"current_delay\").alias(\"avg_delay\")).orderBy(\"vehicle_type\")\n",
    "\n",
    "# Get the top 3 places for each vehicle type with the smallest average delay\n",
    "from pyspark.sql.window import Window\n",
    "from pyspark.sql.functions import row_number\n",
    "\n",
    "window_spec = Window.partitionBy(\"vehicle_type\").orderBy(\"avg_delay\")\n",
    "places_ranked = places_avg.withColumn(\"rank\", row_number().over(window_spec)).filter(col(\"rank\") <= 3)\n",
    "\n",
    "three_places.display()"
   ]
  }
 ],
 "metadata": {
  "application/vnd.databricks.v1+notebook": {
   "computePreferences": null,
   "dashboards": [],
   "environmentMetadata": {
    "base_environment": "",
    "client": "1"
   },
   "language": "python",
   "notebookMetadata": {
    "mostRecentlyExecutedCommandWithImplicitDF": {
     "commandId": 3118278823174574,
     "dataframes": [
      "_sqldf"
     ]
    },
    "pythonIndentUnit": 4
   },
   "notebookName": "Project-notebook",
   "widgets": {}
  },
  "language_info": {
   "name": "python"
  }
 },
 "nbformat": 4,
 "nbformat_minor": 0
}
